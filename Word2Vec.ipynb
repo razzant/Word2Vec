{
 "cells": [
  {
   "cell_type": "code",
   "execution_count": 1,
   "metadata": {},
   "outputs": [],
   "source": [
    "import os\n",
    "import numpy as np\n",
    "import re\n",
    "from sklearn.metrics.pairwise import cosine_similarity\n",
    "from scipy.sparse.linalg import svds\n",
    "from scipy.sparse import csr_matrix\n",
    "from numpy.linalg import norm\n",
    "from tqdm import tqdm"
   ]
  },
  {
   "cell_type": "code",
   "execution_count": 2,
   "metadata": {},
   "outputs": [],
   "source": [
    "# Load enwik 8\n",
    "file = open(\"enwik88.txt\", \"r\")\n",
    "doclist = [line for line in file]\n",
    "docstr = ''.join(doclist)\n",
    "sentences = re.split(r'[.!?]', docstr)\n",
    "sentences = [sentence.split() for sentence in sentences if len(sentence) > 1]"
   ]
  },
  {
   "cell_type": "code",
   "execution_count": 3,
   "metadata": {},
   "outputs": [],
   "source": [
    "def create_vocabulary(sentences, r=200):\n",
    "    '''\n",
    "    create a vocabulary with words that apears in the text more then 200 times\n",
    "    '''\n",
    "    vocabulary = {}\n",
    "    num={}\n",
    "    k=0\n",
    "      \n",
    "    for sentance in tqdm(sentences):\n",
    "        for word in sentance:\n",
    "            if word in num:\n",
    "                num[word]=num[word]+1\n",
    "            else:\n",
    "                num[word]=1\n",
    "    \n",
    "    for sentance in tqdm(sentences):\n",
    "        for word in sentance:\n",
    "            if num[word]>r and not(word in vocabulary):\n",
    "                vocabulary[word]=k\n",
    "                k+=1\n",
    "        \n",
    "    return vocabulary\n"
   ]
  },
  {
   "cell_type": "code",
   "execution_count": 4,
   "metadata": {},
   "outputs": [],
   "source": [
    "def create_corpus_matrix(sentences, vocabulary):\n",
    "    \"\"\"\n",
    "    create a corpus matrix of cotnexts of 5-word window\n",
    "    \"\"\"\n",
    "    len_vocab = len(vocabulary)\n",
    "    corpus_matrix=np.zeros((len_vocab,len_vocab))\n",
    "    for sentence in tqdm(sentences):\n",
    "        tmp=len(sentence)-1\n",
    "        for i in range (len(sentence)):\n",
    "            w0=sentence[i]\n",
    "            if w0 in vocabulary:\n",
    "                for j in range(max(0,i-2),min(tmp,i+2)):\n",
    "                    w = sentence[j]\n",
    "                    if (w  in vocabulary)and (i!=j):\n",
    "                        corpus_matrix[vocabulary[w0],vocabulary[w]]+=1\n",
    "    return corpus_matrix"
   ]
  },
  {
   "cell_type": "code",
   "execution_count": 5,
   "metadata": {},
   "outputs": [
    {
     "name": "stderr",
     "output_type": "stream",
     "text": [
      "100%|██████████████████████████████████████████████████████████████████████| 889156/889156 [00:03<00:00, 247467.46it/s]\n",
      "100%|██████████████████████████████████████████████████████████████████████| 889156/889156 [00:02<00:00, 354158.93it/s]\n",
      "100%|███████████████████████████████████████████████████████████████████████| 889156/889156 [00:28<00:00, 30708.49it/s]\n"
     ]
    }
   ],
   "source": [
    "vocab = create_vocabulary(sentences, r=200)\n",
    "D = create_corpus_matrix(sentences, vocab)"
   ]
  },
  {
   "cell_type": "code",
   "execution_count": 6,
   "metadata": {},
   "outputs": [],
   "source": [
    "def compute_embeddings(D, k, d=200):\n",
    "    \"\"\"\n",
    "    create embeddings matrix for word2vec representation\n",
    "    \"\"\"\n",
    "    length = len(D)\n",
    "    sum_D = D.sum()\n",
    "    w = D.sum(axis=1)\n",
    "    c = D.sum(axis=0)\n",
    "    length2 = length**2 \n",
    "    D = np.array(D)\n",
    "    M = np.zeros((length,length))\n",
    "    for i in tqdm(range(length)):\n",
    "        for j in range(length):\n",
    "            if D[i,j] != 0:\n",
    "                M[i,j] = np.log((D[i,j]*sum_D)/(k*w[i]*c[j]))\n",
    "                M[i,j] = max(0,M[i,j])\n",
    "    M = csr_matrix(M)\n",
    "    U,S,V = svds(M,d)\n",
    "    embedding_matrix=U@np.diag(np.sqrt(S))\n",
    "    return embedding_matrix"
   ]
  },
  {
   "cell_type": "code",
   "execution_count": 7,
   "metadata": {},
   "outputs": [
    {
     "name": "stderr",
     "output_type": "stream",
     "text": [
      "100%|█████████████████████████████████████████████████████████████████████████████| 5758/5758 [00:19<00:00, 289.33it/s]\n"
     ]
    }
   ],
   "source": [
    "k = 5 # negative sampling parameter\n",
    "W = compute_embeddings(D, k)"
   ]
  },
  {
   "cell_type": "code",
   "execution_count": 8,
   "metadata": {},
   "outputs": [],
   "source": [
    "class WordVectors:\n",
    "    def __init__(self, vocabulary, embedding_matrix):\n",
    "        self.vocab = vocabulary\n",
    "        self.W = embedding_matrix\n",
    "        self.inv_vocab = {v: k for k, v in self.vocab.items()}\n",
    "        \n",
    "    def word_vector(self, word):\n",
    "        \"\"\" \n",
    "        Takes word and returns its word vector.\n",
    "        \"\"\"\n",
    "        if word in self.vocab.keys():\n",
    "            i = self.vocab[word]\n",
    "            word_vector = self.W[i, :]\n",
    "        else:\n",
    "            raise Exception(\"There is no such word in the dictionary :)))\")\n",
    "        \n",
    "        return word_vector\n",
    "    \n",
    "    def nearest_words(self, word, top_n=10):\n",
    "        \"\"\" \n",
    "        Takes word from the vocabulary and returns its top_n\n",
    "        nearest neighbors in terms of cosine similarity.\n",
    "        \"\"\"\n",
    "        neighbors = []\n",
    "        v1 = self.word_vector(word)\n",
    "        sims = []\n",
    "        tmp = []\n",
    "        \n",
    "        for w in self.vocab.items():\n",
    "            if w[0] == word:continue\n",
    "            else:\n",
    "                v2 = self.word_vector(w[0])\n",
    "                cosine = (v2 @ v1) / (norm(v1)*norm(v2))\n",
    "                sims.append((w[0],round(cosine,3)))\n",
    "                tmp.append(cosine)\n",
    "        largest_n = np.argpartition(tmp, -top_n)[-top_n:]\n",
    "        for i in largest_n:\n",
    "            neighbors.append(sims[i])\n",
    "        return neighbors"
   ]
  },
  {
   "cell_type": "code",
   "execution_count": 9,
   "metadata": {},
   "outputs": [
    {
     "data": {
      "text/plain": [
       "[('advantages', 0.375),\n",
       " ('education', 0.382),\n",
       " ('assistance', 0.402),\n",
       " ('chance', 0.403),\n",
       " ('funding', 0.394),\n",
       " ('protection', 0.439),\n",
       " ('employment', 0.543),\n",
       " ('benefits', 0.445),\n",
       " ('advice', 0.526),\n",
       " ('opportunity', 0.629)]"
      ]
     },
     "execution_count": 9,
     "metadata": {},
     "output_type": "execute_result"
    }
   ],
   "source": [
    "model = WordVectors(vocab, W)\n",
    "model.nearest_words(\"opportunities\")"
   ]
  },
  {
   "cell_type": "code",
   "execution_count": null,
   "metadata": {},
   "outputs": [],
   "source": []
  }
 ],
 "metadata": {
  "kernelspec": {
   "display_name": "Python 3",
   "language": "python",
   "name": "python3"
  },
  "language_info": {
   "codemirror_mode": {
    "name": "ipython",
    "version": 3
   },
   "file_extension": ".py",
   "mimetype": "text/x-python",
   "name": "python",
   "nbconvert_exporter": "python",
   "pygments_lexer": "ipython3",
   "version": "3.6.8"
  }
 },
 "nbformat": 4,
 "nbformat_minor": 2
}
